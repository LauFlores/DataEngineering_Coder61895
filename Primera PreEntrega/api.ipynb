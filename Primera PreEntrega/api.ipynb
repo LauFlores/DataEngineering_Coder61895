{
 "cells": [
  {
   "cell_type": "markdown",
   "metadata": {},
   "source": [
    "# Cargue de Librerias"
   ]
  },
  {
   "cell_type": "code",
   "execution_count": 9,
   "metadata": {},
   "outputs": [
    {
     "data": {
      "text/plain": [
       "True"
      ]
     },
     "execution_count": 9,
     "metadata": {},
     "output_type": "execute_result"
    }
   ],
   "source": [
    "import requests\n",
    "import pandas as pd\n",
    "from dotenv import load_dotenv\n",
    "import os\n",
    "import psycopg2\n",
    "\n",
    "load_dotenv()"
   ]
  },
  {
   "cell_type": "markdown",
   "metadata": {},
   "source": [
    "# Conexión a la API y Creación del Dataframe"
   ]
  },
  {
   "cell_type": "code",
   "execution_count": 4,
   "metadata": {},
   "outputs": [
    {
     "name": "stdout",
     "output_type": "stream",
     "text": [
      "     ciudad                       time  temperature  humidity  windSpeed  \\\n",
      "0    Bogotá  2024-02-28T00:00:00+00:00        11.92     92.80       1.45   \n",
      "1    Bogotá  2024-02-28T01:00:00+00:00        11.76     93.90       1.37   \n",
      "2    Bogotá  2024-02-28T02:00:00+00:00        11.59     95.00       1.30   \n",
      "3    Bogotá  2024-02-28T03:00:00+00:00        11.42     96.10       1.22   \n",
      "4    Bogotá  2024-02-28T04:00:00+00:00        11.19     96.07       1.13   \n",
      "..      ...                        ...          ...       ...        ...   \n",
      "236  Bogotá  2024-03-08T20:00:00+00:00        11.10     95.43       1.34   \n",
      "237  Bogotá  2024-03-08T21:00:00+00:00        11.14     95.70       1.44   \n",
      "238  Bogotá  2024-03-08T22:00:00+00:00        11.18     95.97       1.53   \n",
      "239  Bogotá  2024-03-08T23:00:00+00:00        11.22     96.23       1.62   \n",
      "240  Bogotá  2024-03-09T00:00:00+00:00        11.26     96.50       1.71   \n",
      "\n",
      "     cloudCover  precipitation  \n",
      "0         70.80           0.07  \n",
      "1         76.07           0.06  \n",
      "2         81.33           0.04  \n",
      "3         86.60           0.03  \n",
      "4         89.93           0.04  \n",
      "..          ...            ...  \n",
      "236       73.53           0.11  \n",
      "237       72.40           0.09  \n",
      "238       71.27           0.07  \n",
      "239       70.13           0.05  \n",
      "240       69.00           0.03  \n",
      "\n",
      "[241 rows x 7 columns]\n"
     ]
    }
   ],
   "source": [
    "API_KEY = os.getenv('STORM_GLASS_API_KEY')\n",
    "\n",
    "# URL base de la API de Storm Glass\n",
    "BASE_URL = \"https://api.stormglass.io/v2/weather/point\"\n",
    "\n",
    "params = {\n",
    "    'lat': 4.7110,  # Latitud de Bogotá\n",
    "    'lng': -74.0721,  # Longitud de Bogotá\n",
    "    'params': ','.join([\n",
    "        'airTemperature',  # Temperatura del aire\n",
    "        'humidity',        # Humedad\n",
    "        'windSpeed',       # Velocidad del viento\n",
    "        'cloudCover',      # Cobertura de nubes\n",
    "        'precipitation'    # Precipitación\n",
    "    ]),\n",
    "}\n",
    "\n",
    "# Encabezados necesarios para la autenticación\n",
    "headers = {\n",
    "    'Authorization': API_KEY\n",
    "}\n",
    "\n",
    "# Hacer la solicitud a la API\n",
    "response = requests.get(BASE_URL, params=params, headers=headers)\n",
    "data = response.json()\n",
    "\n",
    "# Crear una lista para almacenar los datos de cada hora\n",
    "weather_data_list = []\n",
    "\n",
    "if 'hours' in data:\n",
    "    for hour_data in data['hours']:\n",
    "        weather_data = {\n",
    "            'ciudad': 'Bogotá',  # Añadir el nombre de la ciudad\n",
    "            'time': hour_data['time'],\n",
    "            'temperature': hour_data['airTemperature']['noaa'],\n",
    "            'humidity': hour_data['humidity']['noaa'],\n",
    "            'windSpeed': hour_data['windSpeed']['noaa'],\n",
    "            'cloudCover': hour_data['cloudCover']['noaa'],\n",
    "            'precipitation': hour_data['precipitation']['noaa'],\n",
    "        }\n",
    "        weather_data_list.append(weather_data)\n",
    "\n",
    "    # Crear el DataFrame\n",
    "    df = pd.DataFrame(weather_data_list)\n",
    "    print(df)\n",
    "else:\n",
    "    print(\"Error al obtener los datos de la API:\", data.get('message', 'No se encontraron datos.'))\n"
   ]
  },
  {
   "cell_type": "code",
   "execution_count": 8,
   "metadata": {},
   "outputs": [
    {
     "data": {
      "text/html": [
       "<div>\n",
       "<style scoped>\n",
       "    .dataframe tbody tr th:only-of-type {\n",
       "        vertical-align: middle;\n",
       "    }\n",
       "\n",
       "    .dataframe tbody tr th {\n",
       "        vertical-align: top;\n",
       "    }\n",
       "\n",
       "    .dataframe thead th {\n",
       "        text-align: right;\n",
       "    }\n",
       "</style>\n",
       "<table border=\"1\" class=\"dataframe\">\n",
       "  <thead>\n",
       "    <tr style=\"text-align: right;\">\n",
       "      <th></th>\n",
       "      <th>ciudad</th>\n",
       "      <th>time</th>\n",
       "      <th>temperature</th>\n",
       "      <th>humidity</th>\n",
       "      <th>windSpeed</th>\n",
       "      <th>cloudCover</th>\n",
       "      <th>precipitation</th>\n",
       "    </tr>\n",
       "  </thead>\n",
       "  <tbody>\n",
       "    <tr>\n",
       "      <th>0</th>\n",
       "      <td>Bogotá</td>\n",
       "      <td>2024-02-28T00:00:00+00:00</td>\n",
       "      <td>11.92</td>\n",
       "      <td>92.80</td>\n",
       "      <td>1.45</td>\n",
       "      <td>70.80</td>\n",
       "      <td>0.07</td>\n",
       "    </tr>\n",
       "    <tr>\n",
       "      <th>1</th>\n",
       "      <td>Bogotá</td>\n",
       "      <td>2024-02-28T01:00:00+00:00</td>\n",
       "      <td>11.76</td>\n",
       "      <td>93.90</td>\n",
       "      <td>1.37</td>\n",
       "      <td>76.07</td>\n",
       "      <td>0.06</td>\n",
       "    </tr>\n",
       "    <tr>\n",
       "      <th>2</th>\n",
       "      <td>Bogotá</td>\n",
       "      <td>2024-02-28T02:00:00+00:00</td>\n",
       "      <td>11.59</td>\n",
       "      <td>95.00</td>\n",
       "      <td>1.30</td>\n",
       "      <td>81.33</td>\n",
       "      <td>0.04</td>\n",
       "    </tr>\n",
       "    <tr>\n",
       "      <th>3</th>\n",
       "      <td>Bogotá</td>\n",
       "      <td>2024-02-28T03:00:00+00:00</td>\n",
       "      <td>11.42</td>\n",
       "      <td>96.10</td>\n",
       "      <td>1.22</td>\n",
       "      <td>86.60</td>\n",
       "      <td>0.03</td>\n",
       "    </tr>\n",
       "    <tr>\n",
       "      <th>4</th>\n",
       "      <td>Bogotá</td>\n",
       "      <td>2024-02-28T04:00:00+00:00</td>\n",
       "      <td>11.19</td>\n",
       "      <td>96.07</td>\n",
       "      <td>1.13</td>\n",
       "      <td>89.93</td>\n",
       "      <td>0.04</td>\n",
       "    </tr>\n",
       "    <tr>\n",
       "      <th>5</th>\n",
       "      <td>Bogotá</td>\n",
       "      <td>2024-02-28T05:00:00+00:00</td>\n",
       "      <td>10.97</td>\n",
       "      <td>96.03</td>\n",
       "      <td>1.03</td>\n",
       "      <td>93.27</td>\n",
       "      <td>0.04</td>\n",
       "    </tr>\n",
       "    <tr>\n",
       "      <th>6</th>\n",
       "      <td>Bogotá</td>\n",
       "      <td>2024-02-28T06:00:00+00:00</td>\n",
       "      <td>10.74</td>\n",
       "      <td>96.00</td>\n",
       "      <td>0.94</td>\n",
       "      <td>96.60</td>\n",
       "      <td>0.05</td>\n",
       "    </tr>\n",
       "    <tr>\n",
       "      <th>7</th>\n",
       "      <td>Bogotá</td>\n",
       "      <td>2024-02-28T07:00:00+00:00</td>\n",
       "      <td>10.47</td>\n",
       "      <td>96.33</td>\n",
       "      <td>0.90</td>\n",
       "      <td>95.03</td>\n",
       "      <td>0.05</td>\n",
       "    </tr>\n",
       "    <tr>\n",
       "      <th>8</th>\n",
       "      <td>Bogotá</td>\n",
       "      <td>2024-02-28T08:00:00+00:00</td>\n",
       "      <td>10.20</td>\n",
       "      <td>96.67</td>\n",
       "      <td>0.87</td>\n",
       "      <td>93.47</td>\n",
       "      <td>0.05</td>\n",
       "    </tr>\n",
       "    <tr>\n",
       "      <th>9</th>\n",
       "      <td>Bogotá</td>\n",
       "      <td>2024-02-28T09:00:00+00:00</td>\n",
       "      <td>9.93</td>\n",
       "      <td>97.00</td>\n",
       "      <td>0.83</td>\n",
       "      <td>91.90</td>\n",
       "      <td>0.05</td>\n",
       "    </tr>\n",
       "  </tbody>\n",
       "</table>\n",
       "</div>"
      ],
      "text/plain": [
       "   ciudad                       time  temperature  humidity  windSpeed  \\\n",
       "0  Bogotá  2024-02-28T00:00:00+00:00        11.92     92.80       1.45   \n",
       "1  Bogotá  2024-02-28T01:00:00+00:00        11.76     93.90       1.37   \n",
       "2  Bogotá  2024-02-28T02:00:00+00:00        11.59     95.00       1.30   \n",
       "3  Bogotá  2024-02-28T03:00:00+00:00        11.42     96.10       1.22   \n",
       "4  Bogotá  2024-02-28T04:00:00+00:00        11.19     96.07       1.13   \n",
       "5  Bogotá  2024-02-28T05:00:00+00:00        10.97     96.03       1.03   \n",
       "6  Bogotá  2024-02-28T06:00:00+00:00        10.74     96.00       0.94   \n",
       "7  Bogotá  2024-02-28T07:00:00+00:00        10.47     96.33       0.90   \n",
       "8  Bogotá  2024-02-28T08:00:00+00:00        10.20     96.67       0.87   \n",
       "9  Bogotá  2024-02-28T09:00:00+00:00         9.93     97.00       0.83   \n",
       "\n",
       "   cloudCover  precipitation  \n",
       "0       70.80           0.07  \n",
       "1       76.07           0.06  \n",
       "2       81.33           0.04  \n",
       "3       86.60           0.03  \n",
       "4       89.93           0.04  \n",
       "5       93.27           0.04  \n",
       "6       96.60           0.05  \n",
       "7       95.03           0.05  \n",
       "8       93.47           0.05  \n",
       "9       91.90           0.05  "
      ]
     },
     "execution_count": 8,
     "metadata": {},
     "output_type": "execute_result"
    }
   ],
   "source": [
    "df.head(10)"
   ]
  },
  {
   "cell_type": "code",
   "execution_count": 7,
   "metadata": {},
   "outputs": [
    {
     "data": {
      "text/plain": [
       "(241, 7)"
      ]
     },
     "execution_count": 7,
     "metadata": {},
     "output_type": "execute_result"
    }
   ],
   "source": [
    "df.shape"
   ]
  },
  {
   "cell_type": "markdown",
   "metadata": {},
   "source": [
    "# Creación y cargue de datos a Redshift"
   ]
  },
  {
   "cell_type": "code",
   "execution_count": 11,
   "metadata": {},
   "outputs": [
    {
     "name": "stdout",
     "output_type": "stream",
     "text": [
      "Tabla creada con éxito.\n"
     ]
    }
   ],
   "source": [
    "# Cargar variables de entorno desde .env\n",
    "load_dotenv()\n",
    "\n",
    "# Parámetros de conexión a Redshift desde variables de entorno\n",
    "host = os.getenv(\"REDSHIFT_HOST\")\n",
    "port = os.getenv(\"REDSHIFT_PORT\")\n",
    "dbname = os.getenv(\"REDSHIFT_DBNAME\")\n",
    "user = os.getenv(\"REDSHIFT_USER\")\n",
    "password = os.getenv(\"REDSHIFT_PASSWORD\")\n",
    "\n",
    "# Cadena de conexión\n",
    "conn_string = f\"host={host} port={port} dbname={dbname} user={user} password={password}\"\n",
    "\n",
    "# Conexión y creación de la tabla\n",
    "try:\n",
    "    conn = psycopg2.connect(conn_string)\n",
    "    cursor = conn.cursor()\n",
    "    \n",
    "    # SQL para crear la tabla\n",
    "    create_table_query = \"\"\"\n",
    "    CREATE TABLE weather_data (\n",
    "        city VARCHAR(50),\n",
    "        observation_time TIMESTAMP,\n",
    "        temperature DECIMAL(5,2),\n",
    "        humidity DECIMAL(5,2),\n",
    "        wind_speed DECIMAL(5,2),\n",
    "        cloud_cover DECIMAL(5,2),\n",
    "        precipitation DECIMAL(5,2),\n",
    "        ingest_time TIMESTAMP DEFAULT SYSDATE\n",
    "    );\n",
    "    \"\"\"\n",
    "    \n",
    "    cursor.execute(create_table_query)\n",
    "    conn.commit()  # Confirmar la operación\n",
    "    print(\"Tabla creada con éxito.\")\n",
    "except Exception as e:\n",
    "    print(f\"Error: {e}\")\n",
    "finally:\n",
    "    if conn:\n",
    "        cursor.close()\n",
    "        conn.close()"
   ]
  },
  {
   "cell_type": "code",
   "execution_count": 13,
   "metadata": {},
   "outputs": [],
   "source": [
    "# Cargar variables de entorno desde .env\n",
    "load_dotenv()\n",
    "\n",
    "# Parámetros de conexión a Redshift desde variables de entorno\n",
    "host = os.getenv(\"REDSHIFT_HOST\")\n",
    "port = os.getenv(\"REDSHIFT_PORT\")\n",
    "dbname = os.getenv(\"REDSHIFT_DBNAME\")\n",
    "user = os.getenv(\"REDSHIFT_USER\")\n",
    "password = os.getenv(\"REDSHIFT_PASSWORD\")\n",
    "\n",
    "# Cadena de conexión usando variables de entorno\n",
    "conn_string = f\"host={host} port={port} dbname={dbname} user={user} password={password}\"\n",
    "\n",
    "# Conexión a Redshift\n",
    "conn = psycopg2.connect(conn_string)\n",
    "cursor = conn.cursor()"
   ]
  },
  {
   "cell_type": "code",
   "execution_count": 16,
   "metadata": {},
   "outputs": [
    {
     "name": "stdout",
     "output_type": "stream",
     "text": [
      "Datos insertados con éxito en Redshift.\n"
     ]
    }
   ],
   "source": [
    "# Preparar la consulta SQL para insertar datos\n",
    "insert_query = \"\"\"\n",
    "INSERT INTO weather_data (city, observation_time, temperature, humidity, wind_speed, cloud_cover, precipitation, ingest_time)\n",
    "VALUES (%s, %s, %s, %s, %s, %s, %s, CURRENT_TIMESTAMP);\n",
    "\"\"\"\n",
    "\n",
    "# Iterar sobre el DataFrame y ejecutar la consulta de inserción para cada fila\n",
    "for _, row in df.iterrows():\n",
    "    cursor.execute(insert_query, (\n",
    "        row['ciudad'],\n",
    "        pd.to_datetime(row['time']),\n",
    "        row['temperature'],\n",
    "        row['humidity'],\n",
    "        row['windSpeed'],\n",
    "        row['cloudCover'],\n",
    "        row['precipitation']\n",
    "    ))\n",
    "\n",
    "# Confirmar la inserción de datos y cerrar la conexión\n",
    "conn.commit()\n",
    "cursor.close()\n",
    "conn.close()\n",
    "\n",
    "print(\"Datos insertados con éxito en Redshift.\")"
   ]
  }
 ],
 "metadata": {
  "kernelspec": {
   "display_name": "Python 3",
   "language": "python",
   "name": "python3"
  },
  "language_info": {
   "codemirror_mode": {
    "name": "ipython",
    "version": 3
   },
   "file_extension": ".py",
   "mimetype": "text/x-python",
   "name": "python",
   "nbconvert_exporter": "python",
   "pygments_lexer": "ipython3",
   "version": "3.11.0"
  }
 },
 "nbformat": 4,
 "nbformat_minor": 2
}
